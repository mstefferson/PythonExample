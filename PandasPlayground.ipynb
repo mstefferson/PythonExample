{
 "cells": [
  {
   "cell_type": "code",
   "execution_count": 111,
   "metadata": {
    "collapsed": true
   },
   "outputs": [],
   "source": [
    "import pandas as pd\n",
    "import numpy as np\n",
    "import matplotlib.pyplot as plt"
   ]
  },
  {
   "cell_type": "code",
   "execution_count": 57,
   "metadata": {
    "collapsed": false
   },
   "outputs": [
    {
     "name": "stdout",
     "output_type": "stream",
     "text": [
      "data from dict:\n",
      "           A         B\n",
      "0  0.220244  0.923756\n",
      "1  0.407927  0.103034\n",
      "2  0.173909  0.823316\n",
      "data from np:\n",
      "           0         1\n",
      "0  0.607166  0.927000\n",
      "1  0.939386  0.834366\n",
      "2  0.631176  0.045427\n",
      "data with index change:\n",
      "           0         1\n",
      "1  0.607166  0.927000\n",
      "2  0.939386  0.834366\n",
      "3  0.631176  0.045427\n"
     ]
    }
   ],
   "source": [
    "# generate some random data and put it in a dataframe\n",
    "# input can be a dictionary\n",
    "mydict = {'A': np.random.rand(3), 'B': np.random.rand(3) }\n",
    "df1 = pd.DataFrame( data=mydict )\n",
    "print('data from dict:\\n',df1)\n",
    "# or an np.array\n",
    "mydata = np.random.rand(3,2)\n",
    "df2 = pd.DataFrame( data=mydata )\n",
    "print('data from np:\\n',df2)\n",
    "# changing the index\n",
    "# rename index\n",
    "df3 = pd.DataFrame( data=mydata, index=['c','d','e'] )\n",
    "print('data with index change:\\n',df3)"
   ]
  },
  {
   "cell_type": "code",
   "execution_count": 54,
   "metadata": {
    "collapsed": false
   },
   "outputs": [
    {
     "name": "stdout",
     "output_type": "stream",
     "text": [
      "original\n",
      "           A         B\n",
      "0  0.340732  0.147644\n",
      "1  0.102415  0.692383\n",
      "2  0.358854  0.105669\n",
      "first rename:\n",
      "           a         b\n",
      "0  0.340732  0.147644\n",
      "1  0.102415  0.692383\n",
      "2  0.358854  0.105669\n",
      "second rename:\n",
      "           A         B\n",
      "0  0.340732  0.147644\n",
      "1  0.102415  0.692383\n",
      "2  0.358854  0.105669\n",
      "second rename:\n",
      "           A         B\n",
      "0  0.340732  0.147644\n",
      "1  0.102415  0.692383\n",
      "2  0.358854  0.105669\n"
     ]
    }
   ],
   "source": [
    "# rename things\n",
    "print( 'original\\n', df1 )\n",
    "# rename by accessing columns\n",
    "df1.columns = ['a','b']\n",
    "print( 'first rename:\\n', df1 )\n",
    "#or use rename\n",
    "df1.rename(columns={'a': 'A', 'b': 'B'}, inplace=True)\n",
    "print( 'second rename:\\n', df1 )\n"
   ]
  },
  {
   "cell_type": "code",
   "execution_count": 106,
   "metadata": {
    "collapsed": false
   },
   "outputs": [
    {
     "name": "stdout",
     "output_type": "stream",
     "text": [
      "struct style: df1.A[0:2]:\n",
      " 0    0.220244\n",
      "1    0.407927\n",
      "Name: A, dtype: float64\n",
      "dict style: df1[\"A\"][0:2]:\n",
      " 0    0.220244\n",
      "1    0.407927\n",
      "Name: A, dtype: float64\n",
      "array style: df1.iloc[0:2,0]:\n",
      " 0    0.220244\n",
      "1    0.407927\n",
      "Name: A, dtype: float64\n",
      "df1.values\n",
      " [[0.22024407 0.92375626]\n",
      " [0.407927   0.10303433]\n",
      " [0.17390928 0.82331561]]\n",
      "type: <class 'numpy.ndarray'>\n",
      "df1.A.values\n",
      " [0.22024407 0.407927   0.17390928]\n"
     ]
    }
   ],
   "source": [
    "# different ways to grab columns\n",
    "print( 'struct style: df1.A[0:2]:\\n', df1.A[0:2])\n",
    "print( 'dict style: df1[\"A\"][0:2]:\\n', df1['A'][0:2])\n",
    "print( 'array style: df1.iloc[0:2,0]:\\n', df1.iloc[0:2,0])\n",
    "# extract some data as arrays\n",
    "print('df1.values\\n', df1.values )\n",
    "print('type:', type(df1.values) )\n",
    "print('df1.A.values\\n', df1.A.values)"
   ]
  },
  {
   "cell_type": "code",
   "execution_count": 93,
   "metadata": {
    "collapsed": false
   },
   "outputs": [
    {
     "name": "stdout",
     "output_type": "stream",
     "text": [
      "Some addition:\n",
      "df1\n",
      ":           A         B\n",
      "0  0.220244  0.923756\n",
      "1  0.407927  0.103034\n",
      "2  0.173909  0.823316\n",
      "df1 + 1:\n",
      "           A         B\n",
      "0  1.220244  1.923756\n",
      "1  1.407927  1.103034\n",
      "2  1.173909  1.823316\n",
      "df1.A + 2:\n",
      " 0    2.220244\n",
      "1    2.407927\n",
      "2    2.173909\n",
      "Name: A, dtype: float64\n",
      "Some basic stats on whole df:\n",
      "df1.mean()\n",
      " A    0.267360\n",
      "B    0.616702\n",
      "dtype: float64\n",
      "df1.std()\n",
      " A    0.123919\n",
      "B    0.447675\n",
      "dtype: float64\n",
      "Some basic stats on a piece:\n",
      "df1.A.mean()/df1[\"A\"].mean() = 0.26736011782914054\n"
     ]
    }
   ],
   "source": [
    "# doing math with a dataframe\n",
    "# add a constant to the whole df\n",
    "print('Some addition:')\n",
    "print('df1\\n:', df1)\n",
    "print('df1 + 1:\\n', df1+1)\n",
    "# add a constant to part of the df\n",
    "print('df1.A + 2:\\n', df1.A + 2)\n",
    "# take some averages\n",
    "print('Some basic stats on whole df:')\n",
    "print( 'df1.mean()\\n', df1.mean() )\n",
    "print( 'df1.std()\\n', df1.std() )\n",
    "print('Some basic stats on a piece:')\n",
    "print( 'df1.A.mean()/df1[\"A\"].mean() =', df1.A.mean() )"
   ]
  },
  {
   "cell_type": "code",
   "execution_count": 149,
   "metadata": {
    "collapsed": false
   },
   "outputs": [
    {
     "data": {
      "image/png": "[encoded data removed]",
      "text/plain": [
       "<matplotlib.figure.Figure at 0x10c404940>"
      ]
     },
     "metadata": {},
     "output_type": "display_data"
    }
   ],
   "source": [
    "# make a scatter plot\n",
    "fig = plt.figure()\n",
    "plt.scatter( df1.A, df1.B )\n",
    "ax = fig.axes\n",
    "plt.xlabel('x1')\n",
    "plt.ylabel('x2')\n",
    "plt.title('a scatter plot')\n",
    "plt.show()\n",
    "#ax = df1.plot.scatter( df1.A, df1.B )"
   ]
  },
  {
   "cell_type": "code",
   "execution_count": null,
   "metadata": {
    "collapsed": true
   },
   "outputs": [],
   "source": []
  }
 ],
 "metadata": {
  "kernelspec": {
   "display_name": "Python 3",
   "language": "python",
   "name": "python3"
  },
  "language_info": {
   "codemirror_mode": {
    "name": "ipython",
    "version": 3
   },
   "file_extension": ".py",
   "mimetype": "text/x-python",
   "name": "python",
   "nbconvert_exporter": "python",
   "pygments_lexer": "ipython3",
   "version": "3.6.4"
  }
 },
 "nbformat": 4,
 "nbformat_minor": 2
}
