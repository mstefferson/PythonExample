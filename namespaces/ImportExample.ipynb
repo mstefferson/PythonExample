{
 "cells": [
  {
   "cell_type": "code",
   "execution_count": 4,
   "metadata": {
    "collapsed": false
   },
   "outputs": [
    {
     "name": "stdout",
     "output_type": "stream",
     "text": [
      "2 3\n",
      "9 20\n",
      "name: Mike\n",
      "age: 29\n",
      "name: Austin\n",
      "breed: lab\n",
      "name: Molly\n",
      "age: 29\n",
      "name: Matt\n",
      "age: 29\n"
     ]
    }
   ],
   "source": [
    "#  way 1: try to just import\n",
    "# if you do just import, you need to use namespace\n",
    "import variableload\n",
    "import functions2load\n",
    "import classes2load\n",
    "import function_that_uses_class\n",
    "\n",
    "# in variableload.py there are variables a, b. Here is what works\n",
    "print( variableload.a, variableload.b )\n",
    "# this won't work\n",
    "#print(a, b)\n",
    "# in functions2load.py there are variables add2numbers, mult2numbers. Here is what works\n",
    "c = 4\n",
    "d = 5\n",
    "print( functions2load.add2numbers(c,d), functions2load.mult2numbers(c,d) )\n",
    "# this won't work\n",
    "#print( add2numbers(c,d), mult2numbers(c,d) )\n",
    "# in classes2load.py there are classes Human and Dog. Here is what works\n",
    "mike = classes2load.Human( 'Mike', 29 )\n",
    "austin = classes2load.Dog( 'Austin', 'lab')\n",
    "mike.print_features()\n",
    "austin.print_features()\n",
    "# in function_that_uses_class there are two functions. Here is what works\n",
    "function_that_uses_class.function_with_class1()\n",
    "function_that_uses_class.function_with_class2()"
   ]
  },
  {
   "cell_type": "code",
   "execution_count": 2,
   "metadata": {
    "collapsed": false
   },
   "outputs": [
    {
     "name": "stdout",
     "output_type": "stream",
     "text": [
      "2 3\n",
      "9 20\n",
      "name: Tom\n",
      "age: 29\n",
      "name: June\n",
      "breed: mutt\n",
      "name: Molly\n",
      "age: 29\n",
      "name: Matt\n",
      "age: 29\n"
     ]
    }
   ],
   "source": [
    "# way 2: from filename import * (or whatever you want)\n",
    "from variableload import *\n",
    "from functions2load import *\n",
    "from classes2load import *\n",
    "from function_that_uses_class import *\n",
    "# variables\n",
    "print(a,b)\n",
    "# function\n",
    "c = 4\n",
    "d = 5\n",
    "print( add2numbers(c,d), mult2numbers(c,d) )\n",
    "# class\n",
    "Tom = Human( 'Tom', 29 )\n",
    "June = Dog( 'June', 'mutt')\n",
    "Tom.print_features()\n",
    "June.print_features()\n",
    "# try function with class\n",
    "function_with_class1()\n",
    "function_with_class2()"
   ]
  },
  {
   "cell_type": "code",
   "execution_count": null,
   "metadata": {
    "collapsed": true
   },
   "outputs": [],
   "source": []
  }
 ],
 "metadata": {
  "kernelspec": {
   "display_name": "Python 3",
   "language": "python",
   "name": "python3"
  },
  "language_info": {
   "codemirror_mode": {
    "name": "ipython",
    "version": 3
   },
   "file_extension": ".py",
   "mimetype": "text/x-python",
   "name": "python",
   "nbconvert_exporter": "python",
   "pygments_lexer": "ipython3",
   "version": "3.6.3"
  }
 },
 "nbformat": 4,
 "nbformat_minor": 2
}
