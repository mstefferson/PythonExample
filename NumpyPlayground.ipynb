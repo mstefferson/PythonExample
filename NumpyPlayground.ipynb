{
 "cells": [
  {
   "cell_type": "code",
   "execution_count": 2,
   "metadata": {
    "collapsed": true,
    "deletable": true,
    "editable": true
   },
   "outputs": [],
   "source": [
    "import numpy as np"
   ]
  },
  {
   "cell_type": "code",
   "execution_count": null,
   "metadata": {
    "collapsed": false,
    "deletable": true,
    "editable": true
   },
   "outputs": [],
   "source": [
    "## Built in array data types\n",
    "# get a sense of how arrays are constructed\n",
    "# run this to play around with multiplication below\n",
    "a = np.array( [ 1, 2, 3] ) # array takes a list as an input\n",
    "mat = np.array( np.arange(9).reshape(3,3) ) # quickly build a matrix. arange(n) build array 0:n\n",
    "a_row = a.reshape(1, a.size )\n",
    "a_col = a.reshape( a.size, 1 )"
   ]
  },
  {
   "cell_type": "code",
   "execution_count": null,
   "metadata": {
    "collapsed": false
   },
   "outputs": [],
   "source": [
    "# print to see variables\n",
    "print('Check size and shapes')\n",
    "print('a = \\n', a) # 1D\n",
    "print('a_row = \\n', a_row) # 2D column\n",
    "print('a_col= \\n', a_col) # 2D row\n",
    "print('mat = \\n', mat) # matrix"
   ]
  },
  {
   "cell_type": "code",
   "execution_count": null,
   "metadata": {
    "collapsed": false
   },
   "outputs": [],
   "source": [
    "# Test  elementwise multiplication\n",
    "print('Testing elementwise multiplication and broadcasting')\n",
    "print( 'a * mat = \\n', a * mat ) # multiplies each column of matrix by element of 1D\n",
    "#print( 'mat * a = \\n', mat * a ) # same as above. uncomment to check\n",
    "print( 'a_row * mat = \\n', a_row * mat ) # multiplies each column of matrix by column of row vector\n",
    "#print( 'mat * a_row = \\n', mat * a_row ) # same as above. uncomment to check\n",
    "print( 'a_col * mat = \\n', a_col * mat ) # multiplies each row of matrix by element of 1D\n",
    "#print( 'mat * a_col = \\n', mat * a_col ) # same as above. uncomment to check\n",
    "#\n",
    "# Summary: order doesn not matter (a*b) = (b*a). \n",
    "# All elementwise multiplication like matlab .* \n",
    "# 1D broadcasted like a row vector.')\n",
    "#"
   ]
  },
  {
   "cell_type": "code",
   "execution_count": null,
   "metadata": {
    "collapsed": false,
    "deletable": true,
    "editable": true
   },
   "outputs": [],
   "source": [
    "# Test  matrix multiplication\n",
    "print('Testing matrix multiplication')\n",
    "print( 'np.dot(a,mat) = \\n', np.dot(a,mat) ) # turn 1D to row, multiply, output 1D\n",
    "print( 'np.dot(mat,a) = \\n', np.dot(mat,a) ) # turn 1D to col, multiply, output 1D\n",
    "print( 'np.dot(a_row,mat) = \\n', np.dot(a_row,mat) ) # multiplies each column of matrix by element of 1D\n",
    "# fails: print( 'np.dot(mat,a_row) = \\n', np.dot(mat,a_row) ) # multiplies each column of matrix by element of 1D\n",
    "# fails: print( 'np.dot(a_col,mat) = \\n', np.dot(a_col,mat) ) # multiplies each column of matrix by element of 1D\n",
    "print( 'np.dot(mat,a_col) = \\n', np.dot(mat,a_col) ) # multiplies each column of matrix by element of 1D\n",
    "#\n",
    "# Summary: Use dot to do matrix multiplication \n",
    "# Vector math applies as you would expect.\n",
    "# However, 1D is broadcasted to the appropriate 2D vector,\n",
    "# multiplied, and the output is a 1D vector.\n",
    "#"
   ]
  },
  {
   "cell_type": "code",
   "execution_count": null,
   "metadata": {
    "collapsed": false
   },
   "outputs": [],
   "source": [
    "## Some built in functions similar to MATLAB\n",
    "# arange( start, stop, delta)\n",
    "# quick and dirty: arange(end), stop = 0, delta 1\n",
    "start = 3;\n",
    "stop = 7;\n",
    "delta = 2;\n",
    "a_r = np.arange(start,stop,delta) # or a_r = np.arange(n,1)\n",
    "print('arange(',start,',',end,',',delta,')=', a_r)\n",
    "# zeros\n",
    "n = 2\n",
    "print( 'zeros( (n,1) ) =\\n', np.zeros( (n,1) ) )\n",
    "print( 'zeros( (n) ) =\\n', np.zeros( (n) ) )\n",
    "print( 'zeros( (n,n) ) =\\n',np.zeros( (n,n) ) )"
   ]
  },
  {
   "cell_type": "code",
   "execution_count": 1,
   "metadata": {
    "collapsed": false
   },
   "outputs": [
    {
     "ename": "NameError",
     "evalue": "name 'np' is not defined",
     "output_type": "error",
     "traceback": [
      "\u001b[0;31m---------------------------------------------------------------------------\u001b[0m",
      "\u001b[0;31mNameError\u001b[0m                                 Traceback (most recent call last)",
      "\u001b[0;32m<ipython-input-1-1aa0c6b83bd4>\u001b[0m in \u001b[0;36m<module>\u001b[0;34m()\u001b[0m\n\u001b[1;32m      1\u001b[0m \u001b[0;31m## Indices example: matrix\u001b[0m\u001b[0;34m\u001b[0m\u001b[0;34m\u001b[0m\u001b[0m\n\u001b[1;32m      2\u001b[0m \u001b[0mn\u001b[0m \u001b[0;34m=\u001b[0m \u001b[0;36m4\u001b[0m\u001b[0;34m;\u001b[0m\u001b[0;34m\u001b[0m\u001b[0m\n\u001b[0;32m----> 3\u001b[0;31m \u001b[0mmat\u001b[0m \u001b[0;34m=\u001b[0m \u001b[0mnp\u001b[0m\u001b[0;34m.\u001b[0m\u001b[0marray\u001b[0m\u001b[0;34m(\u001b[0m \u001b[0mnp\u001b[0m\u001b[0;34m.\u001b[0m\u001b[0marange\u001b[0m\u001b[0;34m(\u001b[0m\u001b[0mn\u001b[0m\u001b[0;34m*\u001b[0m\u001b[0mn\u001b[0m\u001b[0;34m)\u001b[0m\u001b[0;34m.\u001b[0m\u001b[0mreshape\u001b[0m\u001b[0;34m(\u001b[0m\u001b[0mn\u001b[0m\u001b[0;34m,\u001b[0m\u001b[0mn\u001b[0m\u001b[0;34m)\u001b[0m \u001b[0;34m)\u001b[0m \u001b[0;31m# quickly build a matrix. arange(n) build array 0:n\u001b[0m\u001b[0;34m\u001b[0m\u001b[0m\n\u001b[0m\u001b[1;32m      4\u001b[0m \u001b[0;31m# doing indices start:stop:delta\u001b[0m\u001b[0;34m\u001b[0m\u001b[0;34m\u001b[0m\u001b[0m\n\u001b[1;32m      5\u001b[0m \u001b[0mstop\u001b[0m \u001b[0;34m=\u001b[0m \u001b[0;36m3\u001b[0m\u001b[0;34m\u001b[0m\u001b[0m\n",
      "\u001b[0;31mNameError\u001b[0m: name 'np' is not defined"
     ]
    }
   ],
   "source": [
    "## Indices example: matrix\n",
    "n = 4;\n",
    "mat = np.array( np.arange(n*n).reshape(n,n) ) # quickly build a matrix. arange(n) build array 0:n\n",
    "# doing indices start:stop:delta\n",
    "stop = 3\n",
    "delta = 2\n",
    "str_sep = '%%%%%%%'\n",
    "\n",
    "print( str_sep,'mat', str_sep  )\n",
    "print('mat = \\n', mat)\n",
    "print('mat[1,0:4:2] = ', mat[1,0:stop:delta] )\n",
    "print('mat[:3] = \\n', mat[:3] )\n",
    "print('mat[:3,:] = \\n', mat[:3,:] )\n",
    "print('mat[:,:3] = \\n', mat[:,:3] )"
   ]
  },
  {
   "cell_type": "code",
   "execution_count": 44,
   "metadata": {
    "collapsed": false
   },
   "outputs": [
    {
     "name": "stdout",
     "output_type": "stream",
     "text": [
      "stop 3 delta 2 inds [0, 2]\n",
      "%%%%%%% a %%%%%%%\n",
      "a =  [0 2 4 6]\n",
      "a[0:stop] =  [0 2 4]\n",
      "a[1:stop:delta] =  [2]\n",
      "a[inds] =  [0 4]\n",
      "a[::delta] =  [0 4]\n",
      "%%%%%%% a_row %%%%%%%\n",
      "a_row =  [[0 2 4 6]]\n",
      "a_row[0,:stop] =  [0 2 4]\n",
      "a_row[0,inds] =  [0 4]\n",
      "a_row[:stop]/a_row[:stop,:] =  [[0 2 4 6]]\n",
      "a_row[:,:stop] =  [[0 2 4]]\n",
      "a_row[0,::delta] =  [0 4]\n",
      "a_row[0:2] =  [[0 2 4 6]]\n",
      "%%%%%%% a_col %%%%%%%\n",
      "a_col = \n",
      " [[0]\n",
      " [2]\n",
      " [4]\n",
      " [6]]\n",
      "a_col[:stop,0] = [0 2 4]\n",
      "a_col[inds,0] =  [0 4]\n",
      "a_col[:stop]/a_col[:stop,:] = \n",
      " [[0]\n",
      " [2]\n",
      " [4]]\n",
      "a_col[:,:stop] = \n",
      " [[0]\n",
      " [2]\n",
      " [4]\n",
      " [6]]\n",
      "a_col[inds] = \n",
      " [[0]\n",
      " [4]]\n",
      "a_col[0:2] = \n",
      " [[0]\n",
      " [2]]\n",
      "a_col[::delta,0] =  [0 4]\n"
     ]
    }
   ],
   "source": [
    "## Indices example: vector\n",
    "n = 4;\n",
    "a = 2 * np.arange( n ) # array takes a list as an input\n",
    "mat = np.array( np.arange(n*n).reshape(n,n) ) # quickly build a matrix. arange(n) build array 0:n\n",
    "a_row = a.reshape(1, a.size )\n",
    "a_col = a.reshape( a.size, 1 )\n",
    "# doing indices start:stop:delta\n",
    "inds = [0, 2];\n",
    "stop = 3\n",
    "delta = 2\n",
    "str_sep = '%%%%%%%'\n",
    "print('stop', stop, 'delta', delta, 'inds', inds )\n",
    "print( str_sep, 'a', str_sep  )\n",
    "print('a = ', a)\n",
    "print('a[0:stop] = ', a[0:stop] )\n",
    "print('a[1:stop:delta] = ', a[1:stop:delta] )\n",
    "print('a[inds] = ', a[inds])\n",
    "print('a[::delta] = ', a[::delta] ) # count by 3s\n",
    "print( str_sep,'a_row', str_sep  )\n",
    "print('a_row = ', a_row)\n",
    "print('a_row[0,:stop] = ', a_row[0,:stop] )\n",
    "print('a_row[0,inds] = ', a_row[0,inds] )\n",
    "print('a_row[:stop]/a_row[:stop,:] = ', a_row[:stop] )\n",
    "print('a_row[:,:stop] = ', a_row[:,:stop] ) \n",
    "print('a_row[0,::delta] = ', a_row[0,::delta] ) # count by 2s\n",
    "#print('a_row[inds] = ', a_row[inds] this breaks, requesting indice is doesn't have\n",
    "print('a_row[0:2] = ', a_row[0:2] ) \n",
    "print( str_sep,'a_col', str_sep  )\n",
    "print('a_col = \\n', a_col)\n",
    "print('a_col[:stop,0] =', a_col[:stop,0] )\n",
    "print('a_col[inds,0] = ', a_col[inds,0] )\n",
    "print('a_col[:stop]/a_col[:stop,:] = \\n', a_col[:stop] )\n",
    "print('a_col[:,:stop] = \\n', a_col[:,:stop] )\n",
    "print('a_col[inds] = \\n', a_col[inds] )\n",
    "print('a_col[0:2] = \\n', a_col[0:2] )\n",
    "print('a_col[::delta,0] = ', a_col[::delta,0] ) # count by 2s\n",
    "# if a vector is 2D, eg a_row, if we do\n",
    "# a_row[0:2] without second dimension, 0:2 assumes rows 0:2, column 0. \n",
    "# Since all elements are in row 0, this will print the whole vector\n",
    "# When using :number, if number is greater than the size, that is fine. \n",
    "# It just stops when it reaches the end. If you explicity request and element \n",
    "# it doesn't have, it breaks"
   ]
  },
  {
   "cell_type": "code",
   "execution_count": 47,
   "metadata": {
    "collapsed": false
   },
   "outputs": [
    {
     "name": "stdout",
     "output_type": "stream",
     "text": [
      "stop 5 delta 2 inds [0, 2]\n",
      "%%%%%%% mat %%%%%%%\n",
      "mat = \n",
      " [[ 0  1  2  3  4  5]\n",
      " [ 6  7  8  9 10 11]\n",
      " [12 13 14 15 16 17]\n",
      " [18 19 20 21 22 23]\n",
      " [24 25 26 27 28 29]\n",
      " [30 31 32 33 34 35]]\n",
      "mat[1,0:stop:delta] =  [ 6  8 10]\n",
      "mat[:stop] = \n",
      " [[ 0  1  2  3  4  5]\n",
      " [ 6  7  8  9 10 11]\n",
      " [12 13 14 15 16 17]\n",
      " [18 19 20 21 22 23]\n",
      " [24 25 26 27 28 29]]\n",
      "mat[:stop,:] = \n",
      " [[ 0  1  2  3  4  5]\n",
      " [ 6  7  8  9 10 11]\n",
      " [12 13 14 15 16 17]\n",
      " [18 19 20 21 22 23]\n",
      " [24 25 26 27 28 29]]\n",
      "mat[inds,:] = \n",
      " [[ 0  1  2  3  4  5]\n",
      " [12 13 14 15 16 17]]\n",
      "mat[:,:stop] = \n",
      " [[ 0  1  2  3  4]\n",
      " [ 6  7  8  9 10]\n",
      " [12 13 14 15 16]\n",
      " [18 19 20 21 22]\n",
      " [24 25 26 27 28]\n",
      " [30 31 32 33 34]]\n",
      "mat[:,inds] = \n",
      " [[ 0  2]\n",
      " [ 6  8]\n",
      " [12 14]\n",
      " [18 20]\n",
      " [24 26]\n",
      " [30 32]]\n",
      "mat.flat[:stop] = \n",
      " [0 1 2 3 4]\n",
      "mat.flat[::delta] = \n",
      " [ 0  2  4  6  8 10 12 14 16 18 20 22 24 26 28 30 32 34]\n"
     ]
    }
   ],
   "source": [
    "## Indices example: matrix\n",
    "n = 6;\n",
    "mat = np.array( np.arange(n*n).reshape(n,n) ) # quickly build a matrix. rearrange by columns\n",
    "# doing indices start:stop:delta\n",
    "stop = 5\n",
    "delta = 2\n",
    "inds = [0, 2];\n",
    "str_sep = '%%%%%%%'\n",
    "print('stop', stop, 'delta', delta, 'inds', inds )\n",
    "print( str_sep,'mat', str_sep  )\n",
    "print('mat = \\n', mat)\n",
    "print('mat[1,0:stop:delta] = ', mat[1,0:stop:delta] )\n",
    "print('mat[:stop] = \\n', mat[:stop] )\n",
    "print('mat[:stop,:] = \\n', mat[:stop,:] )\n",
    "print('mat[inds,:] = \\n', mat[inds,:] )\n",
    "print('mat[:,:stop] = \\n', mat[:,:stop] )\n",
    "print('mat[:,inds] = \\n', mat[:,inds] )\n",
    "print('mat.flat[:stop] = \\n', mat.flat[:stop] ) # reserve of matlab! Count across columns\n",
    "print('mat.flat[::delta] = \\n', mat.flat[::delta] ) # Count across columns. Count by 10s\n"
   ]
  }
 ],
 "metadata": {
  "kernelspec": {
   "display_name": "Python 3",
   "language": "python",
   "name": "python3"
  },
  "language_info": {
   "codemirror_mode": {
    "name": "ipython",
    "version": 3
   },
   "file_extension": ".py",
   "mimetype": "text/x-python",
   "name": "python",
   "nbconvert_exporter": "python",
   "pygments_lexer": "ipython3",
   "version": "3.6.3"
  }
 },
 "nbformat": 4,
 "nbformat_minor": 2
}
