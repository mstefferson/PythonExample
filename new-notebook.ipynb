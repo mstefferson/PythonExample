{
 "cells": [
  {
   "cell_type": "code",
   "execution_count": 2,
   "metadata": {
    "collapsed": false,
    "deletable": true,
    "editable": true
   },
   "outputs": [],
   "source": []
  },
  {
   "cell_type": "code",
   "execution_count": 11,
   "metadata": {
    "collapsed": false
   },
   "outputs": [
    {
     "name": "stdout",
     "output_type": "stream",
     "text": [
      "2 3\n",
      "9 20\n"
     ]
    },
    {
     "ename": "TypeError",
     "evalue": "__init__() missing 1 required positional argument: 'w'",
     "output_type": "error",
     "traceback": [
      "\u001b[0;31m---------------------------------------------------------------------------\u001b[0m",
      "\u001b[0;31mTypeError\u001b[0m                                 Traceback (most recent call last)",
      "\u001b[0;32m<ipython-input-11-b40b66c6ca07>\u001b[0m in \u001b[0;36m<module>\u001b[0;34m()\u001b[0m\n\u001b[1;32m     17\u001b[0m \u001b[0;34m\u001b[0m\u001b[0m\n\u001b[1;32m     18\u001b[0m \u001b[0;31m# in classes.py there are variables add2numbers, mult2numbers. Here is what works\u001b[0m\u001b[0;34m\u001b[0m\u001b[0;34m\u001b[0m\u001b[0m\n\u001b[0;32m---> 19\u001b[0;31m \u001b[0mMike\u001b[0m \u001b[0;34m=\u001b[0m \u001b[0mhuman\u001b[0m\u001b[0;34m(\u001b[0m \u001b[0;34m'mike'\u001b[0m\u001b[0;34m,\u001b[0m \u001b[0;36m29\u001b[0m \u001b[0;34m)\u001b[0m\u001b[0;34m\u001b[0m\u001b[0m\n\u001b[0m\u001b[1;32m     20\u001b[0m \u001b[0mMike\u001b[0m\u001b[0;34m.\u001b[0m\u001b[0mprint\u001b[0m\u001b[0;34m(\u001b[0m\u001b[0;34m)\u001b[0m\u001b[0;34m\u001b[0m\u001b[0m\n\u001b[1;32m     21\u001b[0m \u001b[0;31m# this won't work\u001b[0m\u001b[0;34m\u001b[0m\u001b[0;34m\u001b[0m\u001b[0m\n",
      "\u001b[0;31mTypeError\u001b[0m: __init__() missing 1 required positional argument: 'w'"
     ]
    }
   ],
   "source": [
    "# try to just import\n",
    "import variableload\n",
    "import functions2load\n",
    "from classes import *\n",
    "\n",
    "# in variableload.py there are variables a, b. Here is what works\n",
    "print( variableload.a, variableload.b )\n",
    "# this won't work\n",
    "#print(a, b)\n",
    "\n",
    "# in functions2load.py there are variables add2numbers, mult2numbers. Here is what works\n",
    "c = 4\n",
    "d = 5\n",
    "print( functions2load.add2numbers(c,d), functions2load.mult2numbers(c,d) )\n",
    "# this won't work\n",
    "#print( add2numbers(c,d), mult2numbers(c,d) )\n",
    "\n",
    "# in classes.py there are variables add2numbers, mult2numbers. Here is what works\n",
    "Mike = Muman( 'mike', 29 )\n",
    "Mike.print()\n",
    "# this won't work\n",
    "#print( add2numbers(c,d), mult2numbers(c,d) )"
   ]
  },
  {
   "cell_type": "code",
   "execution_count": null,
   "metadata": {
    "collapsed": true
   },
   "outputs": [],
   "source": []
  }
 ],
 "metadata": {
  "kernelspec": {
   "display_name": "Python 3",
   "language": "python",
   "name": "python3"
  },
  "language_info": {
   "codemirror_mode": {
    "name": "ipython",
    "version": 3
   },
   "file_extension": ".py",
   "mimetype": "text/x-python",
   "name": "python",
   "nbconvert_exporter": "python",
   "pygments_lexer": "ipython3",
   "version": "3.6.3"
  }
 },
 "nbformat": 4,
 "nbformat_minor": 2
}
